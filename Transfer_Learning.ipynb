{
  "nbformat": 4,
  "nbformat_minor": 0,
  "metadata": {
    "colab": {
      "name": "Untitled3.ipynb",
      "version": "0.3.2",
      "provenance": [],
      "collapsed_sections": []
    },
    "kernelspec": {
      "name": "python3",
      "display_name": "Python 3"
    },
    "accelerator": "GPU"
  },
  "cells": [
    {
      "metadata": {
        "id": "mTLKzpLHOv40",
        "colab_type": "code",
        "outputId": "67410395-5ca2-446c-84e8-361a491e8f50",
        "colab": {
          "base_uri": "https://localhost:8080/",
          "height": 136
        }
      },
      "cell_type": "code",
      "source": [
        "import numpy as np\n",
        "import matplotlib.pyplot as plt\n",
        "from keras.datasets import cifar10\n",
        "from keras.utils import np_utils\n",
        "from keras.models import Sequential\n",
        "from keras.layers import Dense, Conv2D, MaxPooling2D\n",
        "from keras.layers import Dropout, Flatten, GlobalAveragePooling2D\n",
        "from keras.applications.resnet50 import ResNet50, preprocess_input\n",
        "import cv2\n",
        "\n",
        "(X_train, y_train), (X_test, y_test) = cifar10.load_data() \n",
        "X_train.shape, X_test.shape, np.unique(y_train).shape[0]\n",
        "# one-hot encoding\n",
        "n_classes = 10\n",
        "y_train = np_utils.to_categorical(y_train, n_classes)\n",
        "y_test = np_utils.to_categorical(y_test, n_classes)\n",
        "# Now, extract features from ResNet50 and save them.\n",
        "\n",
        "# load model\n",
        "model_tl = ResNet50(weights='imagenet',\n",
        "                    include_top=False,  # remove top FC layers\n",
        "                   input_shape=(200, 200, 3))\n"
      ],
      "execution_count": 0,
      "outputs": [
        {
          "output_type": "stream",
          "text": [
            "Using TensorFlow backend.\n"
          ],
          "name": "stderr"
        },
        {
          "output_type": "stream",
          "text": [
            "WARNING:tensorflow:From /usr/local/lib/python3.6/dist-packages/tensorflow/python/framework/op_def_library.py:263: colocate_with (from tensorflow.python.framework.ops) is deprecated and will be removed in a future version.\n",
            "Instructions for updating:\n",
            "Colocations handled automatically by placer.\n"
          ],
          "name": "stdout"
        },
        {
          "output_type": "stream",
          "text": [
            "/usr/local/lib/python3.6/dist-packages/keras_applications/resnet50.py:265: UserWarning: The output shape of `ResNet50(include_top=False)` has been changed since Keras 2.2.0.\n",
            "  warnings.warn('The output shape of `ResNet50(include_top=False)` '\n"
          ],
          "name": "stderr"
        }
      ]
    },
    {
      "metadata": {
        "id": "2ZrdfpzKO097",
        "colab_type": "code",
        "outputId": "c8e4bfed-164d-4086-8a4e-f7eca9c9dcca",
        "colab": {
          "base_uri": "https://localhost:8080/",
          "height": 33
        }
      },
      "cell_type": "code",
      "source": [
        "\n",
        "# reshape as min size of image to fed into ResNet is (197, 197, 3)\n",
        "print(X_train[0].shape)\n",
        "# X_train_new = np.zeros(X_train.shape)\n",
        "# for i in range(0, len(X_train)):\n",
        "#     X_train_new[i] = np.reshape(X_train[i],(200, 200,3))\n",
        "X_train_new = np.array([cv2.resize(X_train[i],(200, 200)) for i in range(0, len(X_train))]).astype('float32')\n",
        "# X_train_new = X_train\n",
        "# preprocess data \n",
        "resnet_train_input = preprocess_input(X_train_new)\n",
        "# create bottleneck features for training data\n",
        "train_features = model.predict(resnet_train_input)\n",
        "# save the bottleneck features\n",
        "np.savez('resnet_features_train', features=train_features)\n",
        "\n",
        "# reshape testing data\n",
        "X_test_new = np.array([imresize(X_test[i], (200, 200,  3)) for i in range(0, len(X_test))]).astype('float32')\n",
        "# preprocess to fed it in pre-trained ResNet50\n",
        "restnet_test_input = preprocess_input(X_test_new)\n",
        "# extract features\n",
        "test_featues = model.predict(restnet_test_input)\n",
        "# save features\n",
        "np.savez('resnet_features_test', features=test_featues)\n",
        "# Finally, build the model in Keras using the extracted features.\n",
        "\n",
        "# create model\n",
        "model = Sequential()\n",
        "model.add(GlobalAveragePooling2D(input_shape=train_featues.shape[1:]))\n",
        "model.add(Dropout(0.3))\n",
        "model.add(Dense(10, activation='softmax'))\n",
        "model.summary()\n",
        "\n",
        "model.compile(loss='categorical_crossentropy',\n",
        "             optimizer='adam',\n",
        "             metrics=['accuracy'])\n",
        "\n",
        "model.fit(train_features, y_train,\n",
        "          batch_size=32, epochs=10,\n",
        "         validation_split=0.2, callbacks=[checkpointer],\n",
        "         verbose=True, shuffle=True)\n",
        "\n",
        "# model evaluation\n",
        "score = model.evaluate(test_features, y_test)\n",
        "print('Accuracy on test set: {}'.format(score[1]))"
      ],
      "execution_count": 0,
      "outputs": [
        {
          "output_type": "stream",
          "text": [
            "(32, 32, 3)\n"
          ],
          "name": "stdout"
        }
      ]
    },
    {
      "metadata": {
        "id": "CjgYrLN5UXaN",
        "colab_type": "code",
        "colab": {}
      },
      "cell_type": "code",
      "source": [
        ""
      ],
      "execution_count": 0,
      "outputs": []
    }
  ]
}